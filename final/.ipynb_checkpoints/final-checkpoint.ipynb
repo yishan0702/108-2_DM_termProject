{
 "cells": [
  {
   "cell_type": "code",
   "execution_count": 2,
   "metadata": {},
   "outputs": [],
   "source": [
    "#import packages\n",
    "import csv\n",
    "from sklearn.cluster import KMeans\n",
    "import numpy as np\n",
    "import matplotlib.pyplot as plt\n",
    "from sklearn.decomposition import PCA\n",
    "import math\n",
    "from joblib import dump, load"
   ]
  },
  {
   "cell_type": "code",
   "execution_count": 3,
   "metadata": {},
   "outputs": [],
   "source": [
    "#data normalization\n",
    "def normalize(data):\n",
    "    data_ = []\n",
    "    for i in range(len(data)):\n",
    "        row = []\n",
    "        for j in range(len(data[i])):\n",
    "            if j == 2:\n",
    "                row.append(int(data[i][j])/12)\n",
    "            elif j == 3:\n",
    "                val = (float(data[i][j]) +60)/60\n",
    "                row.append(val)\n",
    "            elif j == 10:\n",
    "                row.append(int(round(float(data[i][j])))/200)\n",
    "            else:\n",
    "                row.append(float(data[i][j]))\n",
    "        data_.append(row)\n",
    "    return data_"
   ]
  },
  {
   "cell_type": "code",
   "execution_count": 4,
   "metadata": {},
   "outputs": [],
   "source": [
    "#load centroids from step2 clustering results\n",
    "def getCentroids():\n",
    "    cs = []\n",
    "    with open(\"centroids_2.csv\", \"r\") as csvfile:\n",
    "        rows = csv.reader(csvfile)\n",
    "        for row in rows:\n",
    "            drow = []\n",
    "            for col in row:\n",
    "                drow.append(float(col))\n",
    "            cs.append(drow)\n",
    "    #cs = np.array(cs)\n",
    "    return cs"
   ]
  },
  {
   "cell_type": "code",
   "execution_count": 5,
   "metadata": {},
   "outputs": [],
   "source": [
    "#每個sample使用features如下，共11個。\n",
    "#['danceability','energy','key', 'loudness', 'mode', 'speechiness', 'acousticness','instrumentalness',\n",
    "# 'liveness','valence','tempo']\n",
    "#classify a feature vector. x must be a 1x11 vector(11 features)\n",
    "def classify(centroids,x):\n",
    "    minDis = 0\n",
    "    belong = 0\n",
    "    for i in range(len(centroids)):\n",
    "        val = 0\n",
    "        for j in range(len(centroids[0])):\n",
    "            val += math.pow(x[j]-centroids[i][j],2)\n",
    "        if i == 0:\n",
    "            minDis = val\n",
    "        elif val < minDis:\n",
    "            minDis = val\n",
    "            belong = i\n",
    "    return belong"
   ]
  },
  {
   "cell_type": "code",
   "execution_count": 6,
   "metadata": {},
   "outputs": [],
   "source": [
    "def getDataClusters(data):\n",
    "    #load pca model from step2\n",
    "    pca = load(\"pca.joblib\")\n",
    "    \n",
    "    #get centroids from reord\n",
    "    centroids = getCentroids()\n",
    "    clusterAmount = len(centroids)\n",
    "    #noramlize data\n",
    "    data = normalize(data)\n",
    "    \n",
    "    #transform data with pca model\n",
    "    data = np.array(data, dtype=float)\n",
    "    data = pca.transform(data)\n",
    "    \n",
    "    #cluster stats\n",
    "    nums = []\n",
    "    for i in range(clusterAmount):\n",
    "        nums.append(0)\n",
    "    \n",
    "    #classify every sample in data and output nums of each class\n",
    "    clus = []\n",
    "    for i in range(len(data)):\n",
    "        label = classify(centroids, data[i])\n",
    "        clus.append(label)\n",
    "        nums[label]+=1\n",
    "        \n",
    "    return clus, nums"
   ]
  },
  {
   "cell_type": "code",
   "execution_count": 12,
   "metadata": {},
   "outputs": [],
   "source": [
    "#load data\n",
    "data = []\n",
    "city = []\n",
    "header = []\n",
    "if True:\n",
    "    with open(\"city_result_2.csv\", \"r\") as csvfile:\n",
    "        rows = csv.reader(csvfile)\n",
    "        i = 0\n",
    "        for row in rows:\n",
    "            if i == 0:\n",
    "                header = row[2:13]\n",
    "            else:\n",
    "                data.append(row[2:13])\n",
    "                city.append(row[1])\n",
    "            i += 1\n",
    "test_x = data"
   ]
  },
  {
   "cell_type": "code",
   "execution_count": 13,
   "metadata": {},
   "outputs": [],
   "source": [
    "test_y, test_y_stats = getDataClusters(test_x)"
   ]
  },
  {
   "cell_type": "code",
   "execution_count": 17,
   "metadata": {},
   "outputs": [
    {
     "name": "stdout",
     "output_type": "stream",
     "text": [
      "[13, 5, 4, 4, 1, 7, 0, 13, 2, 8]\n",
      "['Taipei', 'Taipei', 'Taipei', 'Taipei', 'Taipei', 'Taipei', 'Taipei', 'Taipei', 'Taipei', 'Taipei']\n",
      "[151, 148, 85, 184, 177, 72, 102, 107, 46, 198, 146, 93, 190, 109, 192]\n"
     ]
    }
   ],
   "source": [
    "print(test_y[:10])\n",
    "print(city[:10])\n",
    "print(test_y_stats)"
   ]
  },
  {
   "cell_type": "code",
   "execution_count": 21,
   "metadata": {},
   "outputs": [
    {
     "name": "stdout",
     "output_type": "stream",
     "text": [
      "[['Taipei', 13], ['Taipei', 5], ['Taipei', 4], ['Taipei', 4], ['Taipei', 1], ['Taipei', 7], ['Taipei', 0], ['Taipei', 13], ['Taipei', 2], ['Taipei', 8], ['Taipei', 14], ['Taipei', 4], ['Taipei', 14], ['Taipei', 12], ['Taipei', 1], ['Taipei', 0], ['Taipei', 13], ['Taipei', 1], ['Taipei', 13], ['Taipei', 10], ['Taipei', 0], ['Taipei', 13], ['Taipei', 2], ['Taipei', 10], ['Taipei', 1], ['Taipei', 7], ['Taipei', 4], ['Taipei', 12], ['Taipei', 9], ['Taipei', 13], ['Taipei', 12], ['Taipei', 11], ['Taipei', 5], ['Taipei', 14], ['Taipei', 6], ['Taipei', 9], ['Taipei', 0], ['Taipei', 10], ['Taipei', 10], ['Taipei', 11], ['Taipei', 6], ['Taipei', 4], ['Taipei', 13], ['Taipei', 14], ['Taipei', 5], ['Taipei', 13], ['Taipei', 6], ['Taipei', 6], ['Taipei', 8], ['Taipei', 14], ['Taipei', 11], ['Taipei', 10], ['Taipei', 13], ['Taipei', 10], ['Taipei', 7], ['Taipei', 1], ['Taipei', 10], ['Taipei', 14], ['Taipei', 10], ['Taipei', 5], ['Taipei', 9], ['Taipei', 14], ['Taipei', 4], ['Taipei', 12], ['Taipei', 6], ['Taipei', 14], ['Taipei', 6], ['Taipei', 3], ['Taipei', 0], ['Taipei', 12], ['Taipei', 11], ['Taipei', 8], ['Taipei', 10], ['Taipei', 3], ['Taipei', 2], ['Taipei', 8], ['Taipei', 12], ['Taipei', 1], ['Taipei', 12], ['Taipei', 7], ['Taipei', 9], ['Taipei', 12], ['Taipei', 9], ['Taipei', 8], ['Taipei', 0], ['Taipei', 13], ['Taipei', 6], ['Taipei', 8], ['Taipei', 5], ['Taipei', 11], ['Taipei', 11], ['Taipei', 14], ['Taipei', 8], ['Taipei', 4], ['Taipei', 1], ['Taipei', 2], ['Taipei', 6], ['Taipei', 0], ['Taipei', 1], ['Taipei', 5], ['Taichung', 9], ['Taichung', 2], ['Taichung', 1], ['Taichung', 5], ['Taichung', 10], ['Taichung', 14], ['Taichung', 14], ['Taichung', 10], ['Taichung', 9], ['Taichung', 2], ['Taichung', 11], ['Taichung', 14], ['Taichung', 6], ['Taichung', 10], ['Taichung', 11], ['Taichung', 10], ['Taichung', 3], ['Taichung', 1], ['Taichung', 13], ['Taichung', 13], ['Taichung', 7], ['Taichung', 0], ['Taichung', 5], ['Taichung', 11], ['Taichung', 4], ['Taichung', 10], ['Taichung', 1], ['Taichung', 11], ['Taichung', 14], ['Taichung', 14], ['Taichung', 1], ['Taichung', 6], ['Taichung', 1], ['Taichung', 1], ['Taichung', 7], ['Taichung', 6], ['Taichung', 4], ['Taichung', 6], ['Taichung', 8], ['Taichung', 11], ['Taichung', 8], ['Taichung', 3], ['Taichung', 3], ['Taichung', 9], ['Taichung', 10], ['Taichung', 6], ['Taichung', 6], ['Taichung', 10], ['Taichung', 13], ['Taichung', 12], ['Taichung', 1], ['Taichung', 5], ['Taichung', 4], ['Taichung', 2], ['Taichung', 4], ['Taichung', 7], ['Taichung', 10], ['Taichung', 13], ['Taichung', 11], ['Taichung', 5], ['Taichung', 13], ['Taichung', 6], ['Taichung', 12], ['Taichung', 6], ['Taichung', 4], ['Taichung', 10], ['Taichung', 12], ['Taichung', 6], ['Taichung', 6], ['Taichung', 14], ['Taichung', 6], ['Taichung', 4], ['Taichung', 12], ['Taichung', 13], ['Taichung', 6], ['Taichung', 7], ['Taichung', 13], ['Taichung', 11], ['Taichung', 11], ['Taichung', 3], ['Taichung', 5], ['Taichung', 12], ['Taichung', 0], ['Taichung', 14], ['Taichung', 1], ['Taichung', 11], ['Taichung', 9], ['Taichung', 1], ['Taichung', 4], ['Taichung', 2], ['Taichung', 14], ['Taichung', 12], ['Taichung', 4], ['Taichung', 9], ['Taichung', 11], ['Taichung', 9], ['Taichung', 1], ['Taichung', 1], ['Taichung', 6], ['Taichung', 8], ['Tainan', 5], ['Tainan', 6], ['Tainan', 5], ['Tainan', 6], ['Tainan', 5], ['Tainan', 6], ['Tainan', 5], ['Tainan', 5], ['Tainan', 11], ['Tainan', 5], ['Tainan', 5], ['Tainan', 5], ['Tainan', 4], ['Tainan', 5], ['Tainan', 6], ['Tainan', 8], ['Tainan', 5], ['Tainan', 5], ['Tainan', 9], ['Tainan', 6], ['Tainan', 6], ['Tainan', 5], ['Tainan', 6], ['Tainan', 5], ['Tainan', 6], ['Tainan', 5], ['Tainan', 5], ['Tainan', 13], ['Tainan', 6], ['Tainan', 6], ['Tainan', 5], ['Tainan', 5], ['Tainan', 6], ['Tainan', 5], ['Tainan', 11], ['Tainan', 13], ['Tainan', 10], ['Tainan', 5], ['Tainan', 11], ['Tainan', 6], ['Tainan', 5], ['Tainan', 11], ['Tainan', 10], ['Tainan', 11], ['Tainan', 11], ['Tainan', 5], ['Tainan', 5], ['Tainan', 2], ['Tainan', 14], ['Tainan', 10], ['Tainan', 14], ['Tainan', 10], ['Tainan', 14], ['Tainan', 0], ['Tainan', 10], ['Tainan', 0], ['Tainan', 1], ['Tainan', 6], ['Tainan', 6], ['Tainan', 5], ['Tainan', 14], ['Tainan', 3], ['Tainan', 11], ['Tainan', 11], ['Tainan', 8], ['Tainan', 1], ['Tainan', 6], ['Tainan', 9], ['Tainan', 10], ['Tainan', 1], ['Tainan', 5], ['Tainan', 11], ['Tainan', 10], ['Tainan', 6], ['Tainan', 6], ['Tainan', 1], ['Tainan', 6], ['Tainan', 1], ['Tainan', 0], ['Tainan', 6], ['Tainan', 12], ['Tainan', 10], ['Tainan', 11], ['Tainan', 13], ['Tainan', 0], ['Tainan', 4], ['Tainan', 7], ['Tainan', 10], ['Tainan', 11], ['Tainan', 11], ['Tainan', 2], ['Tainan', 13], ['Tainan', 11], ['Tainan', 4], ['Tainan', 6], ['Tainan', 4], ['Tainan', 6], ['Tainan', 5], ['Tainan', 11], ['Tainan', 8], ['Tokyo', 12], ['Tokyo', 9], ['Tokyo', 1], ['Tokyo', 14], ['Tokyo', 3], ['Tokyo', 14], ['Tokyo', 7], ['Tokyo', 3], ['Tokyo', 4], ['Tokyo', 1], ['Tokyo', 14], ['Tokyo', 3], ['Tokyo', 12], ['Tokyo', 0], ['Tokyo', 0], ['Tokyo', 12], ['Tokyo', 10], ['Tokyo', 4], ['Tokyo', 3], ['Tokyo', 3], ['Tokyo', 9], ['Tokyo', 7], ['Tokyo', 12], ['Tokyo', 4], ['Tokyo', 0], ['Tokyo', 7], ['Tokyo', 0], ['Tokyo', 9], ['Tokyo', 3], ['Tokyo', 9], ['Tokyo', 4], ['Tokyo', 9], ['Tokyo', 9], ['Tokyo', 4], ['Tokyo', 9], ['Tokyo', 12], ['Tokyo', 0], ['Tokyo', 14], ['Tokyo', 4], ['Tokyo', 9], ['Tokyo', 12], ['Tokyo', 9], ['Tokyo', 9], ['Tokyo', 0], ['Tokyo', 9], ['Tokyo', 14], ['Tokyo', 7], ['Tokyo', 9], ['Tokyo', 3], ['Tokyo', 12], ['Tokyo', 7], ['Tokyo', 3], ['Tokyo', 12], ['Tokyo', 0], ['Tokyo', 0], ['Tokyo', 0], ['Tokyo', 7], ['Tokyo', 10], ['Tokyo', 3], ['Tokyo', 3], ['Tokyo', 7], ['Tokyo', 1], ['Tokyo', 1], ['Tokyo', 3], ['Tokyo', 9], ['Tokyo', 9], ['Tokyo', 0], ['Tokyo', 3], ['Tokyo', 10], ['Tokyo', 9], ['Tokyo', 14], ['Tokyo', 4], ['Tokyo', 9], ['Tokyo', 0], ['Tokyo', 0], ['Tokyo', 3], ['Tokyo', 3], ['Tokyo', 4], ['Tokyo', 9], ['Tokyo', 4], ['Tokyo', 9], ['Tokyo', 0], ['Tokyo', 0], ['Tokyo', 12], ['Tokyo', 12], ['Tokyo', 4], ['Tokyo', 14], ['Tokyo', 4], ['Tokyo', 7], ['Tokyo', 3], ['Tokyo', 2], ['Tokyo', 14], ['Tokyo', 12], ['Tokyo', 7], ['Tokyo', 7], ['Tokyo', 9], ['Tokyo', 9], ['Tokyo', 0], ['Tokyo', 0], ['Tokyo', 9], ['Osaka', 9], ['Osaka', 5], ['Osaka', 3], ['Osaka', 14], ['Osaka', 6], ['Osaka', 4], ['Osaka', 9], ['Osaka', 11], ['Osaka', 14], ['Osaka', 7], ['Osaka', 4], ['Osaka', 1], ['Osaka', 4], ['Osaka', 1], ['Osaka', 1], ['Osaka', 9], ['Osaka', 0], ['Osaka', 4], ['Osaka', 7], ['Osaka', 7], ['Osaka', 4], ['Osaka', 3], ['Osaka', 3], ['Osaka', 3], ['Osaka', 9], ['Osaka', 11], ['Osaka', 3], ['Osaka', 6], ['Osaka', 3], ['Osaka', 9], ['Osaka', 3], ['Osaka', 9], ['Osaka', 14], ['Osaka', 4], ['Osaka', 4], ['Osaka', 4], ['Osaka', 14], ['Osaka', 14], ['Osaka', 1], ['Osaka', 10], ['Osaka', 11], ['Osaka', 12], ['Osaka', 9], ['Osaka', 9], ['Osaka', 3], ['Osaka', 10], ['Osaka', 10], ['Osaka', 14], ['Osaka', 9], ['Osaka', 14], ['Osaka', 13], ['Osaka', 4], ['Osaka', 11], ['Osaka', 4], ['Osaka', 10], ['Osaka', 14], ['Osaka', 3], ['Osaka', 10], ['Osaka', 10], ['Osaka', 1], ['Osaka', 12], ['Osaka', 5], ['Osaka', 0], ['Osaka', 10], ['Osaka', 4], ['Osaka', 14], ['Osaka', 11], ['Osaka', 2], ['Osaka', 4], ['Osaka', 1], ['Osaka', 4], ['Osaka', 0], ['Osaka', 14], ['Osaka', 3], ['Osaka', 0], ['Osaka', 14], ['Osaka', 1], ['Osaka', 3], ['Osaka', 3], ['Osaka', 7], ['Osaka', 11], ['Osaka', 10], ['Osaka', 4], ['Osaka', 4], ['Osaka', 10], ['Osaka', 6], ['Osaka', 12], ['Osaka', 14], ['Osaka', 1], ['Osaka', 10], ['Osaka', 8], ['Osaka', 2], ['Osaka', 12], ['Osaka', 3], ['Osaka', 2], ['Osaka', 3], ['Osaka', 10], ['Osaka', 12], ['Osaka', 13], ['Osaka', 0], ['Manila', 10], ['Manila', 5], ['Manila', 1], ['Manila', 1], ['Manila', 4], ['Manila', 10], ['Manila', 4], ['Manila', 1], ['Manila', 10], ['Manila', 10], ['Manila', 11], ['Manila', 14], ['Manila', 9], ['Manila', 13], ['Manila', 1], ['Manila', 1], ['Manila', 1], ['Manila', 8], ['Manila', 10], ['Manila', 4], ['Manila', 7], ['Manila', 14], ['Manila', 14], ['Manila', 8], ['Manila', 3], ['Manila', 10], ['Manila', 6], ['Manila', 6], ['Manila', 14], ['Manila', 14], ['Manila', 4], ['Manila', 7], ['Manila', 14], ['Manila', 11], ['Manila', 7], ['Manila', 2], ['Manila', 9], ['Manila', 10], ['Manila', 11], ['Manila', 10], ['Manila', 5], ['Manila', 3], ['Manila', 1], ['Manila', 9], ['Manila', 7], ['Manila', 4], ['Manila', 5], ['Manila', 4], ['Manila', 14], ['Manila', 6], ['Manila', 1], ['Manila', 10], ['Manila', 10], ['Manila', 14], ['Manila', 10], ['Manila', 10], ['Manila', 4], ['Manila', 6], ['Manila', 5], ['Manila', 9], ['Manila', 12], ['Manila', 5], ['Manila', 1], ['Manila', 1], ['Manila', 13], ['Manila', 0], ['Manila', 6], ['Manila', 11], ['Manila', 14], ['Manila', 9], ['Manila', 1], ['Manila', 14], ['Manila', 10], ['Manila', 11], ['Manila', 6], ['Manila', 0], ['Manila', 10], ['Manila', 7], ['Manila', 10], ['Manila', 10], ['Manila', 8], ['Manila', 14], ['Manila', 8], ['Manila', 1], ['Manila', 10], ['Manila', 10], ['Manila', 13], ['Manila', 6], ['Manila', 6], ['Manila', 7], ['Manila', 11], ['Manila', 6], ['Manila', 11], ['Manila', 11], ['Manila', 5], ['Manila', 6], ['Manila', 6], ['Manila', 0], ['Manila', 6], ['Manila', 14], ['Kuala Lumpur', 8], ['Kuala Lumpur', 7], ['Kuala Lumpur', 2], ['Kuala Lumpur', 13], ['Kuala Lumpur', 6], ['Kuala Lumpur', 7], ['Kuala Lumpur', 13], ['Kuala Lumpur', 2], ['Kuala Lumpur', 3], ['Kuala Lumpur', 7], ['Kuala Lumpur', 0], ['Kuala Lumpur', 12], ['Kuala Lumpur', 12], ['Kuala Lumpur', 2], ['Kuala Lumpur', 8], ['Kuala Lumpur', 12], ['Kuala Lumpur', 8], ['Kuala Lumpur', 13], ['Kuala Lumpur', 10], ['Kuala Lumpur', 13], ['Kuala Lumpur', 10], ['Kuala Lumpur', 2], ['Kuala Lumpur', 8], ['Kuala Lumpur', 10], ['Kuala Lumpur', 13], ['Kuala Lumpur', 4], ['Kuala Lumpur', 14], ['Kuala Lumpur', 9], ['Kuala Lumpur', 13], ['Kuala Lumpur', 12], ['Kuala Lumpur', 13], ['Kuala Lumpur', 13], ['Kuala Lumpur', 13], ['Kuala Lumpur', 6], ['Kuala Lumpur', 1], ['Kuala Lumpur', 2], ['Kuala Lumpur', 11], ['Kuala Lumpur', 7], ['Kuala Lumpur', 14], ['Kuala Lumpur', 2], ['Kuala Lumpur', 11], ['Kuala Lumpur', 1], ['Kuala Lumpur', 2], ['Kuala Lumpur', 12], ['Kuala Lumpur', 12], ['Kuala Lumpur', 13], ['Kuala Lumpur', 0], ['Kuala Lumpur', 13], ['Kuala Lumpur', 2], ['Kuala Lumpur', 14], ['Kuala Lumpur', 2], ['Kuala Lumpur', 14], ['Kuala Lumpur', 1], ['Kuala Lumpur', 11], ['Kuala Lumpur', 12], ['Kuala Lumpur', 3], ['Kuala Lumpur', 0], ['Kuala Lumpur', 3], ['Kuala Lumpur', 2], ['Kuala Lumpur', 13], ['Kuala Lumpur', 6], ['Kuala Lumpur', 10], ['Kuala Lumpur', 7], ['Kuala Lumpur', 9], ['Kuala Lumpur', 13], ['Kuala Lumpur', 13], ['Kuala Lumpur', 14], ['Kuala Lumpur', 12], ['Kuala Lumpur', 9], ['Kuala Lumpur', 2], ['Kuala Lumpur', 8], ['Kuala Lumpur', 10], ['Kuala Lumpur', 8], ['Kuala Lumpur', 3], ['Kuala Lumpur', 11], ['Kuala Lumpur', 6], ['Kuala Lumpur', 13], ['Kuala Lumpur', 3], ['Kuala Lumpur', 3], ['Kuala Lumpur', 7], ['Kuala Lumpur', 1], ['Kuala Lumpur', 12], ['Kuala Lumpur', 8], ['Kuala Lumpur', 7], ['Kuala Lumpur', 4], ['Kuala Lumpur', 4], ['Kuala Lumpur', 14], ['Kuala Lumpur', 1], ['Kuala Lumpur', 10], ['Kuala Lumpur', 14], ['Kuala Lumpur', 14], ['Kuala Lumpur', 2], ['Kuala Lumpur', 3], ['Kuala Lumpur', 13], ['Kuala Lumpur', 10], ['Kuala Lumpur', 2], ['Kuala Lumpur', 2], ['Kuala Lumpur', 12], ['Kuala Lumpur', 8], ['Kuala Lumpur', 3], ['Jakarta', 3], ['Jakarta', 3], ['Jakarta', 9], ['Jakarta', 14], ['Jakarta', 10], ['Jakarta', 6], ['Jakarta', 4], ['Jakarta', 12], ['Jakarta', 14], ['Jakarta', 9], ['Jakarta', 4], ['Jakarta', 9], ['Jakarta', 4], ['Jakarta', 0], ['Jakarta', 3], ['Jakarta', 4], ['Jakarta', 6], ['Jakarta', 1], ['Jakarta', 12], ['Jakarta', 14], ['Jakarta', 6], ['Jakarta', 7], ['Jakarta', 10], ['Jakarta', 0], ['Jakarta', 14], ['Jakarta', 3], ['Jakarta', 4], ['Jakarta', 6], ['Jakarta', 3], ['Jakarta', 11], ['Jakarta', 13], ['Jakarta', 4], ['Jakarta', 3], ['Jakarta', 10], ['Jakarta', 3], ['Jakarta', 10], ['Jakarta', 5], ['Jakarta', 0], ['Jakarta', 3], ['Jakarta', 3], ['Jakarta', 4], ['Jakarta', 9], ['Jakarta', 3], ['Jakarta', 10], ['Jakarta', 1], ['Jakarta', 7], ['Jakarta', 14], ['Jakarta', 9], ['Jakarta', 13], ['Jakarta', 11], ['Jakarta', 14], ['Jakarta', 14], ['Jakarta', 14], ['Jakarta', 14], ['Jakarta', 13], ['Jakarta', 4], ['Jakarta', 11], ['Jakarta', 6], ['Jakarta', 5], ['Jakarta', 12], ['Jakarta', 11], ['Jakarta', 1], ['Jakarta', 6], ['Jakarta', 10], ['Jakarta', 3], ['Jakarta', 4], ['Jakarta', 5], ['Jakarta', 2], ['Jakarta', 1], ['Jakarta', 1], ['Jakarta', 11], ['Jakarta', 14], ['Jakarta', 10], ['Jakarta', 6], ['Jakarta', 11], ['Jakarta', 3], ['Jakarta', 3], ['Jakarta', 10], ['Jakarta', 7], ['Jakarta', 10], ['Jakarta', 13], ['Jakarta', 6], ['Jakarta', 0], ['Jakarta', 5], ['Jakarta', 5], ['Jakarta', 5], ['Jakarta', 1], ['Jakarta', 14], ['Jakarta', 5], ['Jakarta', 5], ['Jakarta', 9], ['Jakarta', 10], ['Jakarta', 10], ['Jakarta', 6], ['Jakarta', 1], ['Jakarta', 10], ['Jakarta', 9], ['Jakarta', 0], ['Jakarta', 6], ['Jakarta', 3], ['Canberra', 10], ['Canberra', 0], ['Canberra', 1], ['Canberra', 0], ['Canberra', 10], ['Canberra', 5], ['Canberra', 12], ['Canberra', 13], ['Canberra', 5], ['Canberra', 10], ['Canberra', 0], ['Canberra', 10], ['Canberra', 9], ['Canberra', 4], ['Canberra', 1], ['Canberra', 0], ['Canberra', 7], ['Canberra', 9], ['Canberra', 12], ['Canberra', 4], ['Canberra', 6], ['Canberra', 10], ['Canberra', 5], ['Canberra', 14], ['Canberra', 4], ['Canberra', 1], ['Canberra', 10], ['Canberra', 6], ['Canberra', 12], ['Canberra', 13], ['Canberra', 10], ['Canberra', 6], ['Canberra', 5], ['Canberra', 3], ['Canberra', 3], ['Canberra', 14], ['Canberra', 7], ['Canberra', 8], ['Canberra', 6], ['Canberra', 9], ['Canberra', 7], ['Canberra', 3], ['Canberra', 14], ['Canberra', 5], ['Canberra', 10], ['Canberra', 14], ['Canberra', 1], ['Canberra', 3], ['Canberra', 10], ['Canberra', 4], ['Canberra', 7], ['Canberra', 8], ['Canberra', 0], ['Canberra', 1], ['Canberra', 3], ['Canberra', 10], ['Canberra', 12], ['Canberra', 7], ['Canberra', 6], ['Canberra', 1], ['Canberra', 1], ['Canberra', 1], ['Canberra', 8], ['Canberra', 9], ['Canberra', 4], ['Canberra', 4], ['Canberra', 5], ['Canberra', 6], ['Canberra', 6], ['Canberra', 1], ['Canberra', 0], ['Canberra', 13], ['Canberra', 11], ['Canberra', 13], ['Canberra', 14], ['Canberra', 9], ['Canberra', 3], ['Canberra', 11], ['Canberra', 9], ['Canberra', 4], ['Canberra', 2], ['Canberra', 14], ['Canberra', 5], ['Canberra', 4], ['Canberra', 10], ['Canberra', 3], ['Canberra', 3], ['Canberra', 1], ['Canberra', 14], ['Canberra', 9], ['Canberra', 11], ['Canberra', 11], ['Canberra', 9], ['Canberra', 5], ['Canberra', 5], ['Canberra', 10], ['Canberra', 4], ['Canberra', 4], ['Canberra', 1], ['Canberra', 9], ['Wellington', 4], ['Wellington', 0], ['Wellington', 1], ['Wellington', 1], ['Wellington', 12], ['Wellington', 7], ['Wellington', 6], ['Wellington', 10], ['Wellington', 0], ['Wellington', 9], ['Wellington', 9], ['Wellington', 14], ['Wellington', 9], ['Wellington', 12], ['Wellington', 6], ['Wellington', 11], ['Wellington', 10], ['Wellington', 0], ['Wellington', 1], ['Wellington', 3], ['Wellington', 2], ['Wellington', 0], ['Wellington', 12], ['Wellington', 8], ['Wellington', 4], ['Wellington', 9], ['Wellington', 7], ['Wellington', 3], ['Wellington', 7], ['Wellington', 14], ['Wellington', 0], ['Wellington', 0], ['Wellington', 1], ['Wellington', 0], ['Wellington', 5], ['Wellington', 2], ['Wellington', 0], ['Wellington', 12], ['Wellington', 13], ['Wellington', 3], ['Wellington', 14], ['Wellington', 3], ['Wellington', 6], ['Wellington', 0], ['Wellington', 4], ['Wellington', 11], ['Wellington', 14], ['Wellington', 3], ['Wellington', 4], ['Wellington', 3], ['Wellington', 14], ['Wellington', 10], ['Wellington', 9], ['Wellington', 3], ['Wellington', 3], ['Wellington', 3], ['Wellington', 10], ['Wellington', 13], ['Wellington', 10], ['Wellington', 10], ['Wellington', 14], ['Wellington', 14], ['Wellington', 1], ['Wellington', 14], ['Wellington', 12], ['Wellington', 14], ['Wellington', 3], ['Wellington', 4], ['Wellington', 4], ['Wellington', 12], ['Wellington', 12], ['Wellington', 3], ['Wellington', 1], ['Wellington', 1], ['Wellington', 4], ['Wellington', 12], ['Wellington', 14], ['Wellington', 4], ['Wellington', 5], ['Wellington', 1], ['Wellington', 8], ['Wellington', 12], ['Wellington', 3], ['Wellington', 13], ['Wellington', 3], ['Wellington', 3], ['Wellington', 9], ['Wellington', 9], ['Wellington', 12], ['Wellington', 14], ['Wellington', 12], ['Wellington', 9], ['Wellington', 3], ['Wellington', 1], ['Wellington', 4], ['Wellington', 12], ['Wellington', 9], ['Wellington', 5], ['Wellington', 3], ['Wellington', 10], ['London', 3], ['London', 12], ['London', 1], ['London', 3], ['London', 4], ['London', 1], ['London', 10], ['London', 3], ['London', 2], ['London', 9], ['London', 7], ['London', 3], ['London', 7], ['London', 9], ['London', 4], ['London', 1], ['London', 9], ['London', 9], ['London', 3], ['London', 13], ['London', 10], ['London', 12], ['London', 13], ['London', 7], ['London', 14], ['London', 12], ['London', 7], ['London', 0], ['London', 14], ['London', 7], ['London', 2], ['London', 4], ['London', 13], ['London', 3], ['London', 7], ['London', 12], ['London', 0], ['London', 9], ['London', 12], ['London', 3], ['London', 13], ['London', 9], ['London', 14], ['London', 14], ['London', 9], ['London', 9], ['London', 12], ['London', 4], ['London', 12], ['London', 3], ['London', 10], ['London', 12], ['London', 3], ['London', 3], ['London', 4], ['London', 14], ['London', 9], ['London', 0], ['London', 12], ['London', 1], ['London', 9], ['London', 12], ['London', 4], ['London', 4], ['London', 7], ['London', 12], ['London', 7], ['London', 1], ['London', 0], ['London', 3], ['London', 13], ['London', 9], ['London', 14], ['London', 0], ['London', 0], ['London', 3], ['London', 9], ['London', 4], ['London', 0], ['London', 2], ['London', 6], ['London', 0], ['London', 7], ['London', 1], ['London', 9], ['London', 7], ['London', 0], ['London', 12], ['London', 0], ['London', 4], ['London', 12], ['London', 9], ['London', 0], ['London', 2], ['London', 14], ['London', 9], ['London', 1], ['London', 14], ['London', 2], ['London', 12], ['Madrid', 2], ['Madrid', 3], ['Madrid', 9], ['Madrid', 12], ['Madrid', 10], ['Madrid', 13], ['Madrid', 4], ['Madrid', 2], ['Madrid', 8], ['Madrid', 9], ['Madrid', 9], ['Madrid', 12], ['Madrid', 0], ['Madrid', 2], ['Madrid', 4], ['Madrid', 7], ['Madrid', 3], ['Madrid', 12], ['Madrid', 0], ['Madrid', 12], ['Madrid', 3], ['Madrid', 10], ['Madrid', 14], ['Madrid', 9], ['Madrid', 4], ['Madrid', 5], ['Madrid', 11], ['Madrid', 9], ['Madrid', 14], ['Madrid', 9], ['Madrid', 12], ['Madrid', 4], ['Madrid', 13], ['Madrid', 1], ['Madrid', 10], ['Madrid', 6], ['Madrid', 12], ['Madrid', 2], ['Madrid', 3], ['Madrid', 3], ['Madrid', 11], ['Madrid', 1], ['Madrid', 3], ['Madrid', 3], ['Madrid', 9], ['Madrid', 9], ['Madrid', 14], ['Madrid', 10], ['Madrid', 3], ['Madrid', 1], ['Madrid', 9], ['Madrid', 3], ['Madrid', 12], ['Madrid', 3], ['Madrid', 14], ['Madrid', 0], ['Madrid', 1], ['Madrid', 12], ['Madrid', 0], ['Madrid', 13], ['Madrid', 7], ['Madrid', 0], ['Madrid', 9], ['Madrid', 9], ['Madrid', 7], ['Madrid', 13], ['Madrid', 10], ['Madrid', 2], ['Madrid', 12], ['Madrid', 12], ['Madrid', 14], ['Madrid', 11], ['Madrid', 6], ['Madrid', 5], ['Madrid', 2], ['Madrid', 6], ['Madrid', 9], ['Madrid', 13], ['Madrid', 4], ['Madrid', 9], ['Madrid', 13], ['Madrid', 9], ['Madrid', 9], ['Madrid', 12], ['Madrid', 0], ['Madrid', 14], ['Madrid', 4], ['Madrid', 11], ['Madrid', 6], ['Madrid', 0], ['Madrid', 9], ['Madrid', 4], ['Madrid', 4], ['Madrid', 1], ['Madrid', 4], ['Madrid', 14], ['Madrid', 9], ['Madrid', 3], ['Madrid', 4], ['Madrid', 12], ['Berlin', 12], ['Berlin', 0], ['Berlin', 4], ['Berlin', 12], ['Berlin', 13], ['Berlin', 10], ['Berlin', 0], ['Berlin', 3], ['Berlin', 4], ['Berlin', 6], ['Berlin', 8], ['Berlin', 1], ['Berlin', 10], ['Berlin', 0], ['Berlin', 12], ['Berlin', 6], ['Berlin', 9], ['Berlin', 9], ['Berlin', 6], ['Berlin', 2], ['Berlin', 0], ['Berlin', 4], ['Berlin', 3], ['Berlin', 4], ['Berlin', 1], ['Berlin', 3], ['Berlin', 9], ['Berlin', 14], ['Berlin', 12], ['Berlin', 3], ['Berlin', 3], ['Berlin', 13], ['Berlin', 10], ['Berlin', 14], ['Berlin', 14], ['Berlin', 10], ['Berlin', 3], ['Berlin', 12], ['Berlin', 14], ['Berlin', 2], ['Berlin', 14], ['Berlin', 3], ['Berlin', 0], ['Berlin', 8], ['Berlin', 13], ['Berlin', 11], ['Berlin', 7], ['Berlin', 1], ['Berlin', 9], ['Berlin', 10], ['Berlin', 4], ['Berlin', 3], ['Berlin', 13], ['Berlin', 1], ['Berlin', 1], ['Berlin', 9], ['Berlin', 10], ['Berlin', 13], ['Berlin', 1], ['Berlin', 9], ['Berlin', 7], ['Berlin', 14], ['Berlin', 9], ['Berlin', 10], ['Berlin', 11], ['Berlin', 12], ['Berlin', 9], ['Berlin', 12], ['Berlin', 9], ['Berlin', 14], ['Berlin', 4], ['Berlin', 10], ['Berlin', 13], ['Berlin', 3], ['Berlin', 8], ['Berlin', 14], ['Berlin', 3], ['Berlin', 3], ['Berlin', 14], ['Berlin', 12], ['Berlin', 0], ['Berlin', 0], ['Berlin', 1], ['Berlin', 9], ['Berlin', 11], ['Berlin', 3], ['Berlin', 7], ['Berlin', 7], ['Berlin', 4], ['Berlin', 2], ['Berlin', 3], ['Berlin', 0], ['Berlin', 9], ['Berlin', 10], ['Berlin', 14], ['Berlin', 14], ['Berlin', 12], ['Berlin', 12], ['Berlin', 8], ['Berlin', 14], ['Paris', 4], ['Paris', 13], ['Paris', 0], ['Paris', 3], ['Paris', 0], ['Paris', 12], ['Paris', 0], ['Paris', 13], ['Paris', 12], ['Paris', 12], ['Paris', 10], ['Paris', 14], ['Paris', 12], ['Paris', 4], ['Paris', 9], ['Paris', 2], ['Paris', 13], ['Paris', 3], ['Paris', 14], ['Paris', 9], ['Paris', 0], ['Paris', 9], ['Paris', 12], ['Paris', 7], ['Paris', 9], ['Paris', 4], ['Paris', 3], ['Paris', 3], ['Paris', 14], ['Paris', 14], ['Paris', 0], ['Paris', 10], ['Paris', 3], ['Paris', 9], ['Paris', 13], ['Paris', 12], ['Paris', 10], ['Paris', 13], ['Paris', 3], ['Paris', 7], ['Paris', 4], ['Paris', 3], ['Paris', 1], ['Paris', 2], ['Paris', 13], ['Paris', 9], ['Paris', 12], ['Paris', 2], ['Paris', 7], ['Paris', 10], ['Paris', 12], ['Paris', 2], ['Paris', 1], ['Paris', 8], ['Paris', 0], ['Paris', 10], ['Paris', 14], ['Paris', 1], ['Paris', 2], ['Paris', 9], ['Paris', 12], ['Paris', 12], ['Paris', 0], ['Paris', 3], ['Paris', 3], ['Paris', 9], ['Paris', 0], ['Paris', 0], ['Paris', 2], ['Paris', 1], ['Paris', 0], ['Paris', 14], ['Paris', 13], ['Paris', 7], ['Paris', 12], ['Paris', 12], ['Paris', 12], ['Paris', 9], ['Paris', 2], ['Paris', 0], ['Paris', 4], ['Paris', 12], ['Paris', 14], ['Paris', 1], ['Paris', 0], ['Paris', 14], ['Paris', 7], ['Paris', 0], ['Paris', 14], ['Paris', 14], ['Paris', 1], ['Paris', 4], ['Paris', 9], ['Paris', 13], ['Paris', 1], ['Paris', 2], ['Paris', 3], ['Paris', 7], ['Paris', 10], ['Paris', 0], ['New York', 12], ['New York', 9], ['New York', 2], ['New York', 12], ['New York', 1], ['New York', 13], ['New York', 3], ['New York', 4], ['New York', 12], ['New York', 0], ['New York', 2], ['New York', 7], ['New York', 1], ['New York', 12], ['New York', 14], ['New York', 14], ['New York', 11], ['New York', 9], ['New York', 0], ['New York', 14], ['New York', 9], ['New York', 0], ['New York', 9], ['New York', 12], ['New York', 1], ['New York', 3], ['New York', 12], ['New York', 12], ['New York', 12], ['New York', 3], ['New York', 0], ['New York', 14], ['New York', 9], ['New York', 12], ['New York', 9], ['New York', 14], ['New York', 3], ['New York', 0], ['New York', 4], ['New York', 12], ['New York', 13], ['New York', 7], ['New York', 9], ['New York', 9], ['New York', 1], ['New York', 13], ['New York', 7], ['New York', 0], ['New York', 0], ['New York', 12], ['New York', 9], ['New York', 9], ['New York', 0], ['New York', 9], ['New York', 0], ['New York', 3], ['New York', 9], ['New York', 9], ['New York', 4], ['New York', 0], ['New York', 9], ['New York', 9], ['New York', 0], ['New York', 2], ['New York', 9], ['New York', 9], ['New York', 12], ['New York', 4], ['New York', 9], ['New York', 11], ['New York', 12], ['New York', 14], ['New York', 12], ['New York', 9], ['New York', 9], ['New York', 0], ['New York', 9], ['New York', 9], ['New York', 14], ['New York', 9], ['New York', 0], ['New York', 12], ['New York', 4], ['New York', 9], ['New York', 12], ['New York', 12], ['New York', 12], ['New York', 9], ['New York', 11], ['New York', 12], ['New York', 4], ['New York', 4], ['New York', 0], ['New York', 0], ['New York', 3], ['New York', 2], ['New York', 12], ['New York', 13], ['New York', 14], ['New York', 8], ['Chicago', 12], ['Chicago', 2], ['Chicago', 12], ['Chicago', 14], ['Chicago', 3], ['Chicago', 9], ['Chicago', 14], ['Chicago', 9], ['Chicago', 12], ['Chicago', 7], ['Chicago', 4], ['Chicago', 14], ['Chicago', 13], ['Chicago', 3], ['Chicago', 7], ['Chicago', 12], ['Chicago', 4], ['Chicago', 12], ['Chicago', 12], ['Chicago', 12], ['Chicago', 4], ['Chicago', 9], ['Chicago', 14], ['Chicago', 3], ['Chicago', 4], ['Chicago', 4], ['Chicago', 3], ['Chicago', 0], ['Chicago', 0], ['Chicago', 2], ['Chicago', 7], ['Chicago', 0], ['Chicago', 14], ['Chicago', 12], ['Chicago', 14], ['Chicago', 0], ['Chicago', 12], ['Chicago', 14], ['Chicago', 9], ['Chicago', 9], ['Chicago', 13], ['Chicago', 12], ['Chicago', 4], ['Chicago', 12], ['Chicago', 12], ['Chicago', 2], ['Chicago', 2], ['Chicago', 12], ['Chicago', 9], ['Chicago', 3], ['Chicago', 13], ['Chicago', 4], ['Chicago', 10], ['Chicago', 14], ['Chicago', 12], ['Chicago', 11], ['Chicago', 9], ['Chicago', 2], ['Chicago', 13], ['Chicago', 4], ['Chicago', 9], ['Chicago', 13], ['Chicago', 7], ['Chicago', 0], ['Chicago', 14], ['Chicago', 11], ['Chicago', 0], ['Chicago', 0], ['Chicago', 13], ['Chicago', 4], ['Chicago', 12], ['Chicago', 14], ['Chicago', 13], ['Chicago', 14], ['Chicago', 14], ['Chicago', 1], ['Chicago', 4], ['Chicago', 1], ['Chicago', 7], ['Chicago', 7], ['Chicago', 3], ['Chicago', 9], ['Chicago', 0], ['Chicago', 3], ['Chicago', 4], ['Chicago', 0], ['Chicago', 12], ['Chicago', 12], ['Chicago', 14], ['Chicago', 10], ['Chicago', 14], ['Chicago', 14], ['Chicago', 14], ['Chicago', 1], ['Chicago', 3], ['Chicago', 9], ['Chicago', 9], ['Chicago', 10], ['Chicago', 4], ['Chicago', 3], ['Ottawa', 12], ['Ottawa', 12], ['Ottawa', 7], ['Ottawa', 10], ['Ottawa', 13], ['Ottawa', 9], ['Ottawa', 0], ['Ottawa', 14], ['Ottawa', 12], ['Ottawa', 14], ['Ottawa', 4], ['Ottawa', 10], ['Ottawa', 1], ['Ottawa', 11], ['Ottawa', 4], ['Ottawa', 0], ['Ottawa', 12], ['Ottawa', 3], ['Ottawa', 0], ['Ottawa', 4], ['Ottawa', 2], ['Ottawa', 9], ['Ottawa', 12], ['Ottawa', 12], ['Ottawa', 4], ['Ottawa', 7], ['Ottawa', 14], ['Ottawa', 2], ['Ottawa', 1], ['Ottawa', 7], ['Ottawa', 14], ['Ottawa', 9], ['Ottawa', 2], ['Ottawa', 13], ['Ottawa', 13], ['Ottawa', 3], ['Ottawa', 13], ['Ottawa', 12], ['Ottawa', 2], ['Ottawa', 4], ['Ottawa', 4], ['Ottawa', 11], ['Ottawa', 3], ['Ottawa', 12], ['Ottawa', 9], ['Ottawa', 0], ['Ottawa', 7], ['Ottawa', 14], ['Ottawa', 6], ['Ottawa', 0], ['Ottawa', 7], ['Ottawa', 14], ['Ottawa', 9], ['Ottawa', 14], ['Ottawa', 3], ['Ottawa', 8], ['Ottawa', 14], ['Ottawa', 3], ['Ottawa', 0], ['Ottawa', 13], ['Ottawa', 3], ['Ottawa', 3], ['Ottawa', 4], ['Ottawa', 13], ['Ottawa', 10], ['Ottawa', 2], ['Ottawa', 4], ['Ottawa', 13], ['Ottawa', 14], ['Ottawa', 10], ['Ottawa', 3], ['Ottawa', 13], ['Ottawa', 14], ['Ottawa', 14], ['Ottawa', 12], ['Ottawa', 1], ['Ottawa', 9], ['Ottawa', 0], ['Ottawa', 8], ['Ottawa', 4], ['Ottawa', 1], ['Ottawa', 9], ['Ottawa', 13], ['Ottawa', 12], ['Ottawa', 8], ['Ottawa', 7], ['Ottawa', 11], ['Ottawa', 14], ['Ottawa', 13], ['Ottawa', 4], ['Ottawa', 14], ['Ottawa', 12], ['Ottawa', 12], ['Ottawa', 9], ['Ottawa', 1], ['Ottawa', 5], ['Ottawa', 1], ['Ottawa', 6], ['Ottawa', 7], ['Ottawa', 7], ['Bras?lia', 4], ['Bras?lia', 4], ['Bras?lia', 14], ['Bras?lia', 2], ['Bras?lia', 2], ['Bras?lia', 13], ['Bras?lia', 13], ['Bras?lia', 7], ['Bras?lia', 14], ['Bras?lia', 9], ['Bras?lia', 9], ['Bras?lia', 10], ['Bras?lia', 6], ['Bras?lia', 12], ['Bras?lia', 1], ['Bras?lia', 1], ['Bras?lia', 0], ['Bras?lia', 12], ['Bras?lia', 1], ['Bras?lia', 0], ['Bras?lia', 2], ['Bras?lia', 4], ['Bras?lia', 1], ['Bras?lia', 4], ['Bras?lia', 4], ['Bras?lia', 1], ['Bras?lia', 14], ['Bras?lia', 14], ['Bras?lia', 14], ['Bras?lia', 4], ['Bras?lia', 3], ['Bras?lia', 3], ['Bras?lia', 4], ['Bras?lia', 7], ['Bras?lia', 12], ['Bras?lia', 3], ['Bras?lia', 12], ['Bras?lia', 10], ['Bras?lia', 2], ['Bras?lia', 10], ['Bras?lia', 1], ['Bras?lia', 1], ['Bras?lia', 0], ['Bras?lia', 4], ['Bras?lia', 7], ['Bras?lia', 13], ['Bras?lia', 14], ['Bras?lia', 9], ['Bras?lia', 0], ['Bras?lia', 7], ['Bras?lia', 3], ['Bras?lia', 3], ['Bras?lia', 1], ['Bras?lia', 4], ['Bras?lia', 7], ['Bras?lia', 9], ['Bras?lia', 4], ['Bras?lia', 4], ['Bras?lia', 3], ['Bras?lia', 1], ['Bras?lia', 14], ['Bras?lia', 11], ['Bras?lia', 12], ['Bras?lia', 4], ['Bras?lia', 9], ['Bras?lia', 1], ['Bras?lia', 3], ['Bras?lia', 3], ['Bras?lia', 0], ['Bras?lia', 14], ['Bras?lia', 12], ['Bras?lia', 3], ['Bras?lia', 14], ['Bras?lia', 14], ['Bras?lia', 3], ['Bras?lia', 0], ['Bras?lia', 12], ['Bras?lia', 3], ['Bras?lia', 9], ['Bras?lia', 12], ['Bras?lia', 1], ['Bras?lia', 9], ['Bras?lia', 14], ['Bras?lia', 10], ['Bras?lia', 12], ['Bras?lia', 4], ['Bras?lia', 2], ['Bras?lia', 3], ['Bras?lia', 13], ['Bras?lia', 4], ['Bras?lia', 7], ['Bras?lia', 10], ['Bras?lia', 4], ['Bras?lia', 9], ['Bras?lia', 14], ['Bras?lia', 14], ['Bras?lia', 9], ['Bras?lia', 11], ['Bras?lia', 12], ['Bras?lia', 9], ['Buenos Aires', 12], ['Buenos Aires', 10], ['Buenos Aires', 0], ['Buenos Aires', 0], ['Buenos Aires', 4], ['Buenos Aires', 9], ['Buenos Aires', 0], ['Buenos Aires', 14], ['Buenos Aires', 7], ['Buenos Aires', 0], ['Buenos Aires', 10], ['Buenos Aires', 10], ['Buenos Aires', 7], ['Buenos Aires', 1], ['Buenos Aires', 3], ['Buenos Aires', 7], ['Buenos Aires', 11], ['Buenos Aires', 7], ['Buenos Aires', 4], ['Buenos Aires', 4], ['Buenos Aires', 12], ['Buenos Aires', 12], ['Buenos Aires', 9], ['Buenos Aires', 12], ['Buenos Aires', 9], ['Buenos Aires', 3], ['Buenos Aires', 0], ['Buenos Aires', 7], ['Buenos Aires', 2], ['Buenos Aires', 12], ['Buenos Aires', 9], ['Buenos Aires', 12], ['Buenos Aires', 10], ['Buenos Aires', 4], ['Buenos Aires', 3], ['Buenos Aires', 7], ['Buenos Aires', 9], ['Buenos Aires', 4], ['Buenos Aires', 0], ['Buenos Aires', 12], ['Buenos Aires', 12], ['Buenos Aires', 3], ['Buenos Aires', 3], ['Buenos Aires', 0], ['Buenos Aires', 2], ['Buenos Aires', 4], ['Buenos Aires', 3], ['Buenos Aires', 3], ['Buenos Aires', 2], ['Buenos Aires', 4], ['Buenos Aires', 4], ['Buenos Aires', 3], ['Buenos Aires', 4], ['Buenos Aires', 1], ['Buenos Aires', 1], ['Buenos Aires', 14], ['Buenos Aires', 1], ['Buenos Aires', 4], ['Buenos Aires', 4], ['Buenos Aires', 12], ['Buenos Aires', 14], ['Buenos Aires', 11], ['Buenos Aires', 7], ['Buenos Aires', 7], ['Buenos Aires', 7], ['Buenos Aires', 0], ['Buenos Aires', 9], ['Buenos Aires', 12], ['Buenos Aires', 10], ['Buenos Aires', 4], ['Buenos Aires', 13], ['Buenos Aires', 0], ['Buenos Aires', 10], ['Buenos Aires', 13], ['Buenos Aires', 12], ['Buenos Aires', 4], ['Buenos Aires', 0], ['Buenos Aires', 0], ['Buenos Aires', 2], ['Buenos Aires', 3], ['Buenos Aires', 3], ['Buenos Aires', 7], ['Buenos Aires', 12], ['Buenos Aires', 9], ['Buenos Aires', 0], ['Buenos Aires', 3], ['Buenos Aires', 14], ['Buenos Aires', 3], ['Buenos Aires', 4], ['Buenos Aires', 3], ['Buenos Aires', 14], ['Buenos Aires', 7], ['Buenos Aires', 4], ['Buenos Aires', 9], ['Buenos Aires', 12], ['Buenos Aires', 9], ['Buenos Aires', 12], ['Buenos Aires', 3], ['Buenos Aires', 6], ['Buenos Aires', 9], ['Berkeley California', 7], ['Berkeley California', 10], ['Berkeley California', 1], ['Berkeley California', 10], ['Berkeley California', 1], ['Berkeley California', 5], ['Berkeley California', 8], ['Berkeley California', 11], ['Berkeley California', 11], ['Berkeley California', 11], ['Berkeley California', 6], ['Berkeley California', 14], ['Berkeley California', 9], ['Berkeley California', 11], ['Berkeley California', 6], ['Berkeley California', 6], ['Berkeley California', 8], ['Berkeley California', 6], ['Berkeley California', 1], ['Berkeley California', 1], ['Berkeley California', 5], ['Berkeley California', 6], ['Berkeley California', 6], ['Berkeley California', 13], ['Berkeley California', 9], ['Berkeley California', 1], ['Berkeley California', 14], ['Berkeley California', 1], ['Berkeley California', 14], ['Berkeley California', 13], ['Berkeley California', 1], ['Berkeley California', 8], ['Berkeley California', 10], ['Berkeley California', 11], ['Berkeley California', 13], ['Berkeley California', 1], ['Berkeley California', 5], ['Berkeley California', 10], ['Berkeley California', 10], ['Berkeley California', 13], ['Berkeley California', 14], ['Berkeley California', 14], ['Berkeley California', 6], ['Berkeley California', 14], ['Berkeley California', 8], ['Berkeley California', 12], ['Berkeley California', 11], ['Berkeley California', 1], ['Berkeley California', 11], ['Berkeley California', 1], ['Berkeley California', 14], ['Berkeley California', 0], ['Berkeley California', 7], ['Berkeley California', 11], ['Berkeley California', 5], ['Berkeley California', 11], ['Berkeley California', 9], ['Berkeley California', 12], ['Berkeley California', 10], ['Berkeley California', 9], ['Berkeley California', 14], ['Berkeley California', 2], ['Berkeley California', 14], ['Berkeley California', 14], ['Berkeley California', 11], ['Berkeley California', 4], ['Berkeley California', 1], ['Berkeley California', 2], ['Berkeley California', 12], ['Berkeley California', 10], ['Berkeley California', 4], ['Berkeley California', 7], ['Berkeley California', 10], ['Berkeley California', 9], ['Berkeley California', 1], ['Berkeley California', 8], ['Berkeley California', 3], ['Berkeley California', 4], ['Berkeley California', 2], ['Berkeley California', 2], ['Berkeley California', 11], ['Berkeley California', 3], ['Berkeley California', 5], ['Berkeley California', 6], ['Berkeley California', 0], ['Berkeley California', 1], ['Berkeley California', 2], ['Berkeley California', 12], ['Berkeley California', 3], ['Berkeley California', 12], ['Berkeley California', 11], ['Berkeley California', 2], ['Berkeley California', 3], ['Berkeley California', 2], ['Berkeley California', 6], ['Berkeley California', 12], ['Berkeley California', 11], ['Berkeley California', 11], ['Berkeley California', 3], ['Berkeley California', 1]]\n"
     ]
    }
   ],
   "source": [
    "#classify every sample in data and output nums of each class\n",
    "result = []\n",
    "for i in range(len(test_y)):\n",
    "    a = [ city[i] , test_y[i]]\n",
    "    result.append(a)\n",
    "print(result)"
   ]
  },
  {
   "cell_type": "code",
   "execution_count": 22,
   "metadata": {},
   "outputs": [],
   "source": [
    "# 寫入檔案\n",
    "with open('output.csv', 'w', newline='') as csvfile:\n",
    "    writer = csv.writer(csvfile)\n",
    "    writer.writerows(result)"
   ]
  },
  {
   "cell_type": "code",
   "execution_count": 24,
   "metadata": {},
   "outputs": [
    {
     "name": "stdout",
     "output_type": "stream",
     "text": [
      "{'Taipei': {0: 7, 1: 8, 2: 4, 3: 2, 4: 7, 5: 6, 6: 8, 7: 4, 8: 7, 9: 5, 10: 9, 11: 6, 12: 8, 13: 10, 14: 9}, 'Taichung': {0: 2, 1: 11, 2: 4, 3: 4, 4: 8, 5: 5, 6: 13, 7: 4, 8: 3, 9: 6, 10: 9, 11: 10, 12: 6, 13: 7, 14: 8}, 'Tainan': {0: 4, 1: 5, 2: 2, 3: 1, 4: 4, 5: 25, 6: 21, 7: 1, 8: 3, 9: 2, 10: 9, 11: 14, 12: 1, 13: 4, 14: 4}, 'Tokyo': {0: 16, 1: 4, 2: 1, 3: 15, 4: 11, 5: 0, 6: 0, 7: 10, 8: 0, 9: 21, 10: 3, 11: 0, 12: 11, 13: 0, 14: 8}, 'Osaka': {0: 5, 1: 8, 2: 3, 3: 14, 4: 15, 5: 2, 6: 3, 7: 4, 8: 1, 9: 9, 10: 11, 11: 6, 12: 5, 13: 2, 14: 12}, 'Manila': {0: 3, 1: 12, 2: 1, 3: 2, 4: 7, 5: 6, 6: 12, 7: 6, 8: 4, 9: 5, 10: 18, 11: 8, 12: 1, 13: 3, 14: 12}, 'Kuala Lumpur': {0: 3, 1: 5, 2: 14, 3: 8, 4: 3, 5: 0, 6: 4, 7: 7, 8: 8, 9: 3, 10: 7, 11: 4, 12: 10, 13: 16, 14: 8}, 'Jakarta': {0: 5, 1: 7, 2: 1, 3: 14, 4: 9, 5: 8, 6: 10, 7: 3, 8: 0, 9: 7, 10: 12, 11: 6, 12: 3, 13: 4, 14: 11}, 'Canberra': {0: 6, 1: 11, 2: 1, 3: 8, 4: 10, 5: 9, 6: 7, 7: 5, 8: 3, 9: 9, 10: 12, 11: 4, 12: 4, 13: 4, 14: 7}, 'Wellington': {0: 9, 1: 9, 2: 2, 3: 16, 4: 9, 5: 3, 6: 3, 7: 3, 8: 2, 9: 9, 10: 7, 11: 2, 12: 12, 13: 3, 14: 11}, 'London': {0: 11, 1: 7, 2: 5, 3: 12, 4: 9, 5: 0, 6: 1, 7: 10, 8: 0, 9: 15, 10: 3, 11: 0, 12: 14, 13: 5, 14: 8}, 'Madrid': {0: 7, 1: 5, 2: 6, 3: 11, 4: 10, 5: 2, 6: 4, 7: 3, 8: 1, 9: 17, 10: 5, 11: 4, 12: 12, 13: 6, 14: 7}, 'Berlin': {0: 8, 1: 7, 2: 3, 3: 13, 4: 7, 5: 0, 6: 3, 7: 4, 8: 4, 9: 11, 10: 9, 11: 3, 12: 10, 13: 6, 14: 12}, 'Paris': {0: 14, 1: 7, 2: 8, 3: 10, 4: 6, 5: 0, 6: 0, 7: 6, 8: 1, 9: 10, 10: 6, 11: 0, 12: 14, 13: 8, 14: 10}, 'New York': {0: 15, 1: 4, 2: 4, 3: 6, 4: 7, 5: 0, 6: 0, 7: 3, 8: 1, 9: 25, 10: 0, 11: 3, 12: 20, 13: 4, 14: 8}, 'Chicago': {0: 9, 1: 3, 2: 5, 3: 9, 4: 12, 5: 0, 6: 0, 7: 6, 8: 0, 9: 11, 10: 3, 11: 2, 12: 17, 13: 7, 14: 16}, 'Ottawa': {0: 7, 1: 6, 2: 5, 3: 8, 4: 10, 5: 1, 6: 2, 7: 8, 8: 3, 9: 8, 10: 4, 11: 3, 12: 12, 13: 10, 14: 13}, 'Bras?lia': {0: 6, 1: 11, 2: 5, 3: 12, 4: 15, 5: 0, 6: 1, 7: 6, 8: 0, 9: 10, 10: 5, 11: 2, 12: 10, 13: 4, 14: 13}, 'Buenos Aires': {0: 12, 1: 4, 2: 4, 3: 14, 4: 15, 5: 0, 6: 1, 7: 11, 8: 0, 9: 10, 10: 6, 11: 2, 12: 14, 13: 2, 14: 5}, 'Berkeley California': {0: 2, 1: 14, 2: 7, 3: 5, 4: 3, 5: 5, 6: 9, 7: 3, 8: 5, 9: 5, 10: 8, 11: 14, 12: 6, 13: 4, 14: 10}}\n"
     ]
    }
   ],
   "source": [
    "# Get city - music type count\n",
    "# EX ='Taipei': {0: 9, 1: 18, 2: 24, 3: 24, 4: 25}\n",
    "city_music_count = {}\n",
    "count = []\n",
    "for r in result:\n",
    "    if r[0] in city_music_count:\n",
    "        if r[1] in city_music_count[r[0]]:\n",
    "            city_music_count[r[0]][r[1]] += 1\n",
    "    else:\n",
    "        city_music_count[r[0]] = {0:0, 1:0, 2:0, 3:0, 4:0, 5:0, 6:0, 7:0, 8:0, 9:0, 10:0, 11:0, 12:0, 13:0, 14:0}\n",
    "        city_music_count[r[0]][r[1]] += 1\n",
    "print(city_music_count)"
   ]
  },
  {
   "cell_type": "code",
   "execution_count": 31,
   "metadata": {},
   "outputs": [
    {
     "name": "stdout",
     "output_type": "stream",
     "text": [
      "100\n",
      "100\n",
      "100\n",
      "100\n",
      "100\n",
      "100\n",
      "100\n",
      "100\n",
      "100\n",
      "100\n",
      "100\n",
      "100\n",
      "100\n",
      "100\n",
      "100\n",
      "100\n",
      "100\n",
      "100\n",
      "100\n",
      "100\n",
      "[['City', '0', '1', '2', '3', '4', '5', '6', '7', '8', '9', '10', '11', '12', '13', '14'], ['Taipei', 0.07, 0.08, 0.04, 0.02, 0.07, 0.06, 0.08, 0.04, 0.07, 0.05, 0.09, 0.06, 0.08, 0.1, 0.09], ['Taichung', 0.02, 0.11, 0.04, 0.04, 0.08, 0.05, 0.13, 0.04, 0.03, 0.06, 0.09, 0.1, 0.06, 0.07, 0.08], ['Tainan', 0.04, 0.05, 0.02, 0.01, 0.04, 0.25, 0.21, 0.01, 0.03, 0.02, 0.09, 0.14, 0.01, 0.04, 0.04], ['Tokyo', 0.16, 0.04, 0.01, 0.15, 0.11, 0.0, 0.0, 0.1, 0.0, 0.21, 0.03, 0.0, 0.11, 0.0, 0.08], ['Osaka', 0.05, 0.08, 0.03, 0.14, 0.15, 0.02, 0.03, 0.04, 0.01, 0.09, 0.11, 0.06, 0.05, 0.02, 0.12], ['Manila', 0.03, 0.12, 0.01, 0.02, 0.07, 0.06, 0.12, 0.06, 0.04, 0.05, 0.18, 0.08, 0.01, 0.03, 0.12], ['Kuala Lumpur', 0.03, 0.05, 0.14, 0.08, 0.03, 0.0, 0.04, 0.07, 0.08, 0.03, 0.07, 0.04, 0.1, 0.16, 0.08], ['Jakarta', 0.05, 0.07, 0.01, 0.14, 0.09, 0.08, 0.1, 0.03, 0.0, 0.07, 0.12, 0.06, 0.03, 0.04, 0.11], ['Canberra', 0.06, 0.11, 0.01, 0.08, 0.1, 0.09, 0.07, 0.05, 0.03, 0.09, 0.12, 0.04, 0.04, 0.04, 0.07], ['Wellington', 0.09, 0.09, 0.02, 0.16, 0.09, 0.03, 0.03, 0.03, 0.02, 0.09, 0.07, 0.02, 0.12, 0.03, 0.11], ['London', 0.11, 0.07, 0.05, 0.12, 0.09, 0.0, 0.01, 0.1, 0.0, 0.15, 0.03, 0.0, 0.14, 0.05, 0.08], ['Madrid', 0.07, 0.05, 0.06, 0.11, 0.1, 0.02, 0.04, 0.03, 0.01, 0.17, 0.05, 0.04, 0.12, 0.06, 0.07], ['Berlin', 0.08, 0.07, 0.03, 0.13, 0.07, 0.0, 0.03, 0.04, 0.04, 0.11, 0.09, 0.03, 0.1, 0.06, 0.12], ['Paris', 0.14, 0.07, 0.08, 0.1, 0.06, 0.0, 0.0, 0.06, 0.01, 0.1, 0.06, 0.0, 0.14, 0.08, 0.1], ['New York', 0.15, 0.04, 0.04, 0.06, 0.07, 0.0, 0.0, 0.03, 0.01, 0.25, 0.0, 0.03, 0.2, 0.04, 0.08], ['Chicago', 0.09, 0.03, 0.05, 0.09, 0.12, 0.0, 0.0, 0.06, 0.0, 0.11, 0.03, 0.02, 0.17, 0.07, 0.16], ['Ottawa', 0.07, 0.06, 0.05, 0.08, 0.1, 0.01, 0.02, 0.08, 0.03, 0.08, 0.04, 0.03, 0.12, 0.1, 0.13], ['Bras?lia', 0.06, 0.11, 0.05, 0.12, 0.15, 0.0, 0.01, 0.06, 0.0, 0.1, 0.05, 0.02, 0.1, 0.04, 0.13], ['Buenos Aires', 0.12, 0.04, 0.04, 0.14, 0.15, 0.0, 0.01, 0.11, 0.0, 0.1, 0.06, 0.02, 0.14, 0.02, 0.05], ['Berkeley California', 0.02, 0.14, 0.07, 0.05, 0.03, 0.05, 0.09, 0.03, 0.05, 0.05, 0.08, 0.14, 0.06, 0.04, 0.1]]\n"
     ]
    }
   ],
   "source": [
    "# Get city - music type average\n",
    "# ['Taipei', 0.09, 0.18, 0.24, 0.24, 0.25]\n",
    "city_music_avg = []\n",
    "city_music_avg.append(['City', '0', '1', '2', '3', '4', '5', '6', '7', '8', '9', '10', '11', '12', '13', '14'])\n",
    "for r in city_music_count.items():\n",
    "    avg_value = []\n",
    "    avg_value.append(r[0])\n",
    "    count = 0\n",
    "    for a in r[1].items():\n",
    "        count += a[1]\n",
    "    for b in range(0,15):\n",
    "        avg_value.append(r[1][b]/count)\n",
    "    city_music_avg.append(avg_value)\n",
    "\n",
    "print(city_music_avg)"
   ]
  },
  {
   "cell_type": "code",
   "execution_count": 28,
   "metadata": {},
   "outputs": [],
   "source": [
    "# 寫入檔案\n",
    "# 欄位資料：['Taipei', 0.09, 0.18, 0.24, 0.24, 0.25]\n",
    "with open('result.csv', 'w', newline='') as csvfile:\n",
    "    writer = csv.writer(csvfile)\n",
    "    writer.writerows(city_music_avg)"
   ]
  },
  {
   "cell_type": "code",
   "execution_count": 10,
   "metadata": {},
   "outputs": [],
   "source": [
    "#load data\n",
    "test_x = []\n",
    "#set dataset path:\n",
    "path = \"../playlistresult.csv\"\n",
    "#header = []\n",
    "with open(path, \"r\") as csvfile:\n",
    "    rows = csv.reader(csvfile)\n",
    "    for row in rows:\n",
    "        test_x.append(row[:11])"
   ]
  },
  {
   "cell_type": "code",
   "execution_count": null,
   "metadata": {},
   "outputs": [],
   "source": [
    "test_y, test_y_stats = getDataClusters(test_x)"
   ]
  }
 ],
 "metadata": {
  "kernelspec": {
   "display_name": "Python 3",
   "language": "python",
   "name": "python3"
  },
  "language_info": {
   "codemirror_mode": {
    "name": "ipython",
    "version": 3
   },
   "file_extension": ".py",
   "mimetype": "text/x-python",
   "name": "python",
   "nbconvert_exporter": "python",
   "pygments_lexer": "ipython3",
   "version": "3.7.0"
  }
 },
 "nbformat": 4,
 "nbformat_minor": 4
}
